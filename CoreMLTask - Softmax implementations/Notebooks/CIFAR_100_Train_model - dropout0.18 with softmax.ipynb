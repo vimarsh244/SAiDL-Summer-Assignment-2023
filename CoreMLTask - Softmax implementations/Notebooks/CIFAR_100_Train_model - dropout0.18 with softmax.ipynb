{
  "nbformat": 4,
  "nbformat_minor": 0,
  "metadata": {
    "colab": {
      "provenance": [],
      "gpuType": "T4"
    },
    "kernelspec": {
      "name": "python3",
      "display_name": "Python 3"
    },
    "language_info": {
      "name": "python"
    },
    "accelerator": "GPU",
    "gpuClass": "standard"
  },
  "cells": [
    {
      "cell_type": "code",
      "execution_count": 93,
      "metadata": {
        "id": "_hVskP0Dk0Tm"
      },
      "outputs": [],
      "source": []
    },
    {
      "cell_type": "markdown",
      "source": [
        "## Declaring libraries and downloading dataset\n"
      ],
      "metadata": {
        "id": "MG9S1fwbk3ql"
      }
    },
    {
      "cell_type": "code",
      "source": [
        "import torch\n",
        "import torchvision\n",
        "\n",
        "import numpy as np\n",
        "import matplotlib.pyplot as plt\n",
        "import torch.nn as nn\n",
        "import torch.nn.functional as F\n",
        "from torchvision.datasets import CIFAR100\n",
        "from torchvision.transforms import ToTensor\n",
        "from torchvision.utils import make_grid\n",
        "from torch.utils.data.dataloader import DataLoader\n",
        "from torch.utils.data import random_split\n",
        "\n",
        "%matplotlib inline"
      ],
      "metadata": {
        "id": "TuZK2Bfbk6HX"
      },
      "execution_count": 94,
      "outputs": []
    },
    {
      "cell_type": "code",
      "source": [
        "dataset = CIFAR100(root = 'data/', download = True, transform = ToTensor())\n",
        "test_dataset = CIFAR100(root = 'data/', train = False, transform = ToTensor())"
      ],
      "metadata": {
        "colab": {
          "base_uri": "https://localhost:8080/"
        },
        "id": "bNzPPnD0lCbq",
        "outputId": "db485aec-1693-40a2-be08-d9fb96eeddc4"
      },
      "execution_count": 95,
      "outputs": [
        {
          "output_type": "stream",
          "name": "stdout",
          "text": [
            "Files already downloaded and verified\n"
          ]
        }
      ]
    },
    {
      "cell_type": "code",
      "source": [
        "print(len(dataset))\n",
        "print(len(test_dataset))\n",
        "\n",
        "classes = dataset.classes \n",
        "print('Number of Classes:', len(classes))\n",
        "print('Class Names :\\n', classes)\n",
        "\n",
        "#shape of the image tensor\n",
        "img, label = dataset[31]\n",
        "img_shape = img.shape\n",
        "img_shape"
      ],
      "metadata": {
        "colab": {
          "base_uri": "https://localhost:8080/"
        },
        "id": "5kQcGAKOlG4d",
        "outputId": "a785a22e-d79a-40bf-99bc-e1c891bb6fdd"
      },
      "execution_count": 96,
      "outputs": [
        {
          "output_type": "stream",
          "name": "stdout",
          "text": [
            "50000\n",
            "10000\n",
            "Number of Classes: 100\n",
            "Class Names :\n",
            " ['apple', 'aquarium_fish', 'baby', 'bear', 'beaver', 'bed', 'bee', 'beetle', 'bicycle', 'bottle', 'bowl', 'boy', 'bridge', 'bus', 'butterfly', 'camel', 'can', 'castle', 'caterpillar', 'cattle', 'chair', 'chimpanzee', 'clock', 'cloud', 'cockroach', 'couch', 'crab', 'crocodile', 'cup', 'dinosaur', 'dolphin', 'elephant', 'flatfish', 'forest', 'fox', 'girl', 'hamster', 'house', 'kangaroo', 'keyboard', 'lamp', 'lawn_mower', 'leopard', 'lion', 'lizard', 'lobster', 'man', 'maple_tree', 'motorcycle', 'mountain', 'mouse', 'mushroom', 'oak_tree', 'orange', 'orchid', 'otter', 'palm_tree', 'pear', 'pickup_truck', 'pine_tree', 'plain', 'plate', 'poppy', 'porcupine', 'possum', 'rabbit', 'raccoon', 'ray', 'road', 'rocket', 'rose', 'sea', 'seal', 'shark', 'shrew', 'skunk', 'skyscraper', 'snail', 'snake', 'spider', 'squirrel', 'streetcar', 'sunflower', 'sweet_pepper', 'table', 'tank', 'telephone', 'television', 'tiger', 'tractor', 'train', 'trout', 'tulip', 'turtle', 'wardrobe', 'whale', 'willow_tree', 'wolf', 'woman', 'worm']\n"
          ]
        },
        {
          "output_type": "execute_result",
          "data": {
            "text/plain": [
              "torch.Size([3, 32, 32])"
            ]
          },
          "metadata": {},
          "execution_count": 96
        }
      ]
    },
    {
      "cell_type": "code",
      "source": [
        "print(\"1 - Max & Min Pixel Values:\", \"Max:\", torch.max(img), \"Min:\", torch.min(img))\n",
        "print(\"2 - Pixel Values for all Channels:\\n\", img[:, 20:25, 20:25])"
      ],
      "metadata": {
        "colab": {
          "base_uri": "https://localhost:8080/"
        },
        "id": "-y7L7ZnrlM9w",
        "outputId": "ee4e294d-2fe6-48a8-c84e-bd805a3493a6"
      },
      "execution_count": 97,
      "outputs": [
        {
          "output_type": "stream",
          "name": "stdout",
          "text": [
            "1 - Max & Min Pixel Values: Max: tensor(1.) Min: tensor(0.1020)\n",
            "2 - Pixel Values for all Channels:\n",
            " tensor([[[0.5569, 0.6039, 0.6510, 0.6039, 0.8235],\n",
            "         [0.3961, 0.5922, 0.7529, 0.6824, 0.8314],\n",
            "         [0.2941, 0.5294, 0.6275, 0.6078, 0.6784],\n",
            "         [0.3255, 0.4471, 0.4353, 0.4235, 0.4275],\n",
            "         [0.4667, 0.4667, 0.5020, 0.5725, 0.4706]],\n",
            "\n",
            "        [[0.4353, 0.4745, 0.5020, 0.4549, 0.6510],\n",
            "         [0.3020, 0.4706, 0.5882, 0.5098, 0.6706],\n",
            "         [0.2471, 0.4196, 0.4745, 0.4431, 0.5333],\n",
            "         [0.2667, 0.3529, 0.3098, 0.2941, 0.3098],\n",
            "         [0.3922, 0.4039, 0.4196, 0.4902, 0.3922]],\n",
            "\n",
            "        [[0.4392, 0.4824, 0.5137, 0.4627, 0.6667],\n",
            "         [0.3020, 0.4745, 0.6000, 0.5216, 0.6745],\n",
            "         [0.2431, 0.4353, 0.4980, 0.4627, 0.5373],\n",
            "         [0.2627, 0.3569, 0.3176, 0.2980, 0.3059],\n",
            "         [0.3490, 0.3490, 0.3647, 0.4314, 0.3333]]])\n"
          ]
        }
      ]
    },
    {
      "cell_type": "markdown",
      "source": [
        "## Preparing Dataset"
      ],
      "metadata": {
        "id": "aB93rwDslR-u"
      }
    },
    {
      "cell_type": "code",
      "source": [
        "torch.manual_seed(2718) ##settling a manual seed to get similar results everytime\n",
        "\n",
        "val_size = 10000\n",
        "train_size = len(dataset) - val_size\n",
        "\n",
        "train_ds, val_ds = random_split(dataset,[train_size, val_size])\n",
        "len(train_ds), len(val_ds)"
      ],
      "metadata": {
        "colab": {
          "base_uri": "https://localhost:8080/"
        },
        "id": "3L7WPilYlUrT",
        "outputId": "88fa3f8b-c3d2-4766-f849-6609c35b7feb"
      },
      "execution_count": 98,
      "outputs": [
        {
          "output_type": "execute_result",
          "data": {
            "text/plain": [
              "(40000, 10000)"
            ]
          },
          "metadata": {},
          "execution_count": 98
        }
      ]
    },
    {
      "cell_type": "code",
      "source": [
        "batch_size = 128"
      ],
      "metadata": {
        "id": "Awkhy5FMlfG0"
      },
      "execution_count": 99,
      "outputs": []
    },
    {
      "cell_type": "code",
      "source": [
        "# Defininf Loaders for training process\n",
        "train_loader = DataLoader(train_ds, batch_size, shuffle = True, num_workers=4, pin_memory =True)\n",
        "val_loader = DataLoader(val_ds, batch_size, num_workers=4, pin_memory =True)\n",
        "test_loader = DataLoader(test_dataset, batch_size, num_workers=4, pin_memory =True)"
      ],
      "metadata": {
        "id": "b_RTR5g1lm4z"
      },
      "execution_count": 100,
      "outputs": []
    },
    {
      "cell_type": "code",
      "source": [
        "torch.cuda.is_available()\n",
        "\n",
        "def get_default_device():\n",
        "    \"\"\"Pick GPU if available, else CPU\"\"\"\n",
        "    if torch.cuda.is_available():\n",
        "        return torch.device('cuda')\n",
        "    else:\n",
        "        return torch.device('cpu')\n",
        "\n",
        "device = get_default_device()\n",
        "device\n",
        "def to_device(data, device):\n",
        "    \"\"\"Move tensor(s) to chosen device\"\"\"\n",
        "    if isinstance(data, (list,tuple)):\n",
        "        return [to_device(x, device) for x in data]\n",
        "    return data.to(device, non_blocking=True)\n",
        "\n",
        "class DeviceDataLoader():\n",
        "    \"\"\"Wrap a dataloader to move data to a device\"\"\"\n",
        "    def __init__(self, dl, device):\n",
        "        self.dl = dl\n",
        "        self.device = device\n",
        "        \n",
        "    def __iter__(self):\n",
        "        \"\"\"Yield a batch of data after moving it to device\"\"\"\n",
        "        for b in self.dl: \n",
        "            yield to_device(b, self.device)\n",
        "\n",
        "    def __len__(self):\n",
        "        \"\"\"Number of batches\"\"\"\n",
        "        return len(self.dl)\n",
        "\n",
        "train_loader = DeviceDataLoader(train_loader, device)\n",
        "val_loader = DeviceDataLoader(val_loader, device)\n",
        "test_loader = DeviceDataLoader(test_loader, device)"
      ],
      "metadata": {
        "id": "7ZeufDWHltRc"
      },
      "execution_count": 101,
      "outputs": []
    },
    {
      "cell_type": "markdown",
      "source": [
        "idk\n"
      ],
      "metadata": {
        "id": "ffs_I-_KmP0H"
      }
    },
    {
      "cell_type": "code",
      "source": [
        "def accuracy(outputs, labels):\n",
        "    _, preds = torch.max(outputs, dim=1)\n",
        "    return torch.tensor(torch.sum(preds == labels).item() / len(preds))\n",
        "\n",
        "class ImageClassificationBase(nn.Module):\n",
        "    def training_step(self, batch):\n",
        "        images, labels = batch \n",
        "        out = self(images)                  # Generate predictions\n",
        "        loss = F.cross_entropy(out, labels) # Calculate loss\n",
        "        return loss\n",
        "    \n",
        "    def validation_step(self, batch):\n",
        "        images, labels = batch \n",
        "        out = self(images)                    # Generate predictions\n",
        "        loss = F.cross_entropy(out, labels)   # Calculate loss\n",
        "        acc = accuracy(out, labels)           # Calculate accuracy\n",
        "        return {'val_loss': loss.detach(), 'val_acc': acc}\n",
        "        \n",
        "    def validation_epoch_end(self, outputs):\n",
        "        batch_losses = [x['val_loss'] for x in outputs]\n",
        "        epoch_loss = torch.stack(batch_losses).mean()   # Combine losses\n",
        "        batch_accs = [x['val_acc'] for x in outputs]\n",
        "        epoch_acc = torch.stack(batch_accs).mean()      # Combine accuracies\n",
        "        return {'val_loss': epoch_loss.item(), 'val_acc': epoch_acc.item()}\n",
        "    \n",
        "    def epoch_end(self, epoch, result):\n",
        "        print(\"Epoch [{}], last_lr: {:.5f}, train_loss: {:.4f}, val_loss: {:.4f}, val_acc: {:.4f}\".format(\n",
        "            epoch, result['lrs'][-1], result['train_loss'], result['val_loss'], result['val_acc']))"
      ],
      "metadata": {
        "id": "zqopX4ULmR1g"
      },
      "execution_count": 102,
      "outputs": []
    },
    {
      "cell_type": "markdown",
      "source": [
        "## Using ResNet 9 structure to train the model"
      ],
      "metadata": {
        "id": "6wYk3CwbmfKp"
      }
    },
    {
      "cell_type": "code",
      "source": [
        "def conv_block(in_channels, out_channels, pool=False):\n",
        "    layers = [nn.Conv2d(in_channels, out_channels, kernel_size=3, padding=1), \n",
        "              nn.BatchNorm2d(out_channels), \n",
        "              nn.ReLU(inplace=True)]\n",
        "    if pool: layers.append(nn.MaxPool2d(2))\n",
        "    return nn.Sequential(*layers)\n",
        "\n",
        "class ResNet9(ImageClassificationBase):\n",
        "    def __init__(self, in_channels, num_classes):\n",
        "        super().__init__()\n",
        "        \n",
        "        self.conv1 = conv_block(in_channels, 64)\n",
        "        self.conv2 = conv_block(64, 128, pool=True)\n",
        "        self.res1 = nn.Sequential(conv_block(128, 128), conv_block(128, 128))\n",
        "        \n",
        "        self.conv3 = conv_block(128, 256, pool=True)\n",
        "        self.conv4 = conv_block(256, 512, pool=True)\n",
        "        self.res2 = nn.Sequential(conv_block(512, 512), conv_block(512, 512))\n",
        "        \n",
        "        self.classifier = nn.Sequential(nn.MaxPool2d(4), \n",
        "                                        nn.Flatten(), \n",
        "                                        nn.Linear(512, num_classes),\n",
        "                                        nn.Dropout(p=0.18),\n",
        "                                        nn.Softmax())\n",
        "        \n",
        "    def forward(self, xb):\n",
        "        out = self.conv1(xb)\n",
        "        out = self.conv2(out)\n",
        "        out = self.res1(out) + out\n",
        "        out = self.conv3(out)\n",
        "        out = self.conv4(out)\n",
        "        out = self.res2(out) + out\n",
        "        out = self.classifier(out)\n",
        "        return out"
      ],
      "metadata": {
        "id": "winp9QsNmiSS"
      },
      "execution_count": 103,
      "outputs": []
    },
    {
      "cell_type": "code",
      "source": [
        "@torch.no_grad()\n",
        "def evaluate(model, val_loader):\n",
        "    model.eval()\n",
        "    outputs = [model.validation_step(batch) for batch in val_loader]\n",
        "    return model.validation_epoch_end(outputs)\n",
        "\n",
        "def get_lr(optimizer):\n",
        "    for param_group in optimizer.param_groups:\n",
        "        return param_group['lr']\n",
        "\n",
        "def fit_one_cycle(epochs, max_lr, model, train_loader, val_loader, \n",
        "                  weight_decay=0, grad_clip=None, opt_func=torch.optim.SGD):\n",
        "    torch.cuda.empty_cache()\n",
        "    history = []\n",
        "    \n",
        "    # Set up custom optimizer with weight decay\n",
        "    optimizer = opt_func(model.parameters(), max_lr, weight_decay=weight_decay)\n",
        "    # Set up one-cycle learning rate scheduler\n",
        "    sched = torch.optim.lr_scheduler.OneCycleLR(optimizer, max_lr, epochs=epochs, \n",
        "                                                steps_per_epoch=len(train_loader))\n",
        "    \n",
        "    for epoch in range(epochs):\n",
        "        # Training Phase \n",
        "        model.train()\n",
        "        train_losses = []\n",
        "        lrs = []\n",
        "        for batch in train_loader:\n",
        "            loss = model.training_step(batch)\n",
        "            train_losses.append(loss)\n",
        "            loss.backward()\n",
        "            \n",
        "            # Gradient clipping\n",
        "            if grad_clip: \n",
        "                nn.utils.clip_grad_value_(model.parameters(), grad_clip)\n",
        "            \n",
        "            optimizer.step()\n",
        "            optimizer.zero_grad()\n",
        "            \n",
        "            # Record & update learning rate\n",
        "            lrs.append(get_lr(optimizer))\n",
        "            sched.step()\n",
        "        \n",
        "        # Validation phase\n",
        "        result = evaluate(model, val_loader)\n",
        "        result['train_loss'] = torch.stack(train_losses).mean().item()\n",
        "        result['lrs'] = lrs\n",
        "        model.epoch_end(epoch, result)\n",
        "        history.append(result)\n",
        "    return history"
      ],
      "metadata": {
        "id": "bXwpdpFzmn--"
      },
      "execution_count": 104,
      "outputs": []
    },
    {
      "cell_type": "code",
      "source": [
        "model_resnet9 = to_device(ResNet9(3, 100), device)\n",
        "model_resnet9"
      ],
      "metadata": {
        "colab": {
          "base_uri": "https://localhost:8080/"
        },
        "id": "xYeBtWaBmolO",
        "outputId": "f43c4192-9a99-4233-f3f7-9ddb41a07c39"
      },
      "execution_count": 105,
      "outputs": [
        {
          "output_type": "execute_result",
          "data": {
            "text/plain": [
              "ResNet9(\n",
              "  (conv1): Sequential(\n",
              "    (0): Conv2d(3, 64, kernel_size=(3, 3), stride=(1, 1), padding=(1, 1))\n",
              "    (1): BatchNorm2d(64, eps=1e-05, momentum=0.1, affine=True, track_running_stats=True)\n",
              "    (2): ReLU(inplace=True)\n",
              "  )\n",
              "  (conv2): Sequential(\n",
              "    (0): Conv2d(64, 128, kernel_size=(3, 3), stride=(1, 1), padding=(1, 1))\n",
              "    (1): BatchNorm2d(128, eps=1e-05, momentum=0.1, affine=True, track_running_stats=True)\n",
              "    (2): ReLU(inplace=True)\n",
              "    (3): MaxPool2d(kernel_size=2, stride=2, padding=0, dilation=1, ceil_mode=False)\n",
              "  )\n",
              "  (res1): Sequential(\n",
              "    (0): Sequential(\n",
              "      (0): Conv2d(128, 128, kernel_size=(3, 3), stride=(1, 1), padding=(1, 1))\n",
              "      (1): BatchNorm2d(128, eps=1e-05, momentum=0.1, affine=True, track_running_stats=True)\n",
              "      (2): ReLU(inplace=True)\n",
              "    )\n",
              "    (1): Sequential(\n",
              "      (0): Conv2d(128, 128, kernel_size=(3, 3), stride=(1, 1), padding=(1, 1))\n",
              "      (1): BatchNorm2d(128, eps=1e-05, momentum=0.1, affine=True, track_running_stats=True)\n",
              "      (2): ReLU(inplace=True)\n",
              "    )\n",
              "  )\n",
              "  (conv3): Sequential(\n",
              "    (0): Conv2d(128, 256, kernel_size=(3, 3), stride=(1, 1), padding=(1, 1))\n",
              "    (1): BatchNorm2d(256, eps=1e-05, momentum=0.1, affine=True, track_running_stats=True)\n",
              "    (2): ReLU(inplace=True)\n",
              "    (3): MaxPool2d(kernel_size=2, stride=2, padding=0, dilation=1, ceil_mode=False)\n",
              "  )\n",
              "  (conv4): Sequential(\n",
              "    (0): Conv2d(256, 512, kernel_size=(3, 3), stride=(1, 1), padding=(1, 1))\n",
              "    (1): BatchNorm2d(512, eps=1e-05, momentum=0.1, affine=True, track_running_stats=True)\n",
              "    (2): ReLU(inplace=True)\n",
              "    (3): MaxPool2d(kernel_size=2, stride=2, padding=0, dilation=1, ceil_mode=False)\n",
              "  )\n",
              "  (res2): Sequential(\n",
              "    (0): Sequential(\n",
              "      (0): Conv2d(512, 512, kernel_size=(3, 3), stride=(1, 1), padding=(1, 1))\n",
              "      (1): BatchNorm2d(512, eps=1e-05, momentum=0.1, affine=True, track_running_stats=True)\n",
              "      (2): ReLU(inplace=True)\n",
              "    )\n",
              "    (1): Sequential(\n",
              "      (0): Conv2d(512, 512, kernel_size=(3, 3), stride=(1, 1), padding=(1, 1))\n",
              "      (1): BatchNorm2d(512, eps=1e-05, momentum=0.1, affine=True, track_running_stats=True)\n",
              "      (2): ReLU(inplace=True)\n",
              "    )\n",
              "  )\n",
              "  (classifier): Sequential(\n",
              "    (0): MaxPool2d(kernel_size=4, stride=4, padding=0, dilation=1, ceil_mode=False)\n",
              "    (1): Flatten(start_dim=1, end_dim=-1)\n",
              "    (2): Linear(in_features=512, out_features=100, bias=True)\n",
              "    (3): Dropout(p=0.18, inplace=False)\n",
              "    (4): Softmax(dim=None)\n",
              "  )\n",
              ")"
            ]
          },
          "metadata": {},
          "execution_count": 105
        }
      ]
    },
    {
      "cell_type": "code",
      "source": [
        "history_resnet9 = [evaluate(model_resnet9, val_loader)]\n",
        "history_resnet9"
      ],
      "metadata": {
        "colab": {
          "base_uri": "https://localhost:8080/"
        },
        "id": "t9NC0nTPmqx5",
        "outputId": "b835a63c-2a53-4c96-c573-aaa17ed0b485"
      },
      "execution_count": 106,
      "outputs": [
        {
          "output_type": "execute_result",
          "data": {
            "text/plain": [
              "[{'val_loss': 4.605168342590332, 'val_acc': 0.010284810326993465}]"
            ]
          },
          "metadata": {},
          "execution_count": 106
        }
      ]
    },
    {
      "cell_type": "markdown",
      "source": [
        "**Setting parameters for training**"
      ],
      "metadata": {
        "id": "Q8lYrWoGms1Q"
      }
    },
    {
      "cell_type": "code",
      "source": [
        "epochs_resnet9 = 50\n",
        "max_lr = 0.01\n",
        "grad_clip = 0.1\n",
        "weight_decay = 1e-5\n",
        "opt_func = torch.optim.Adam"
      ],
      "metadata": {
        "id": "xpZTe8-lmsJ9"
      },
      "execution_count": 107,
      "outputs": []
    },
    {
      "cell_type": "code",
      "source": [
        "%%time\n",
        "history_resnet9 += fit_one_cycle(epochs_resnet9, max_lr, model_resnet9, train_loader, val_loader, \n",
        "                             grad_clip=grad_clip, \n",
        "                             weight_decay=weight_decay, \n",
        "                             opt_func=opt_func)"
      ],
      "metadata": {
        "colab": {
          "base_uri": "https://localhost:8080/"
        },
        "id": "OLNZzG4Nmwth",
        "outputId": "d3d27e8c-27ad-4e95-f732-a2e093ce7e3b"
      },
      "execution_count": 108,
      "outputs": [
        {
          "output_type": "stream",
          "name": "stdout",
          "text": [
            "Epoch [0], last_lr: 0.00050, train_loss: 4.5883, val_loss: 4.5774, val_acc: 0.0444\n",
            "Epoch [1], last_lr: 0.00081, train_loss: 4.5842, val_loss: 4.5828, val_acc: 0.0394\n",
            "Epoch [2], last_lr: 0.00132, train_loss: 4.5904, val_loss: 4.5979, val_acc: 0.0234\n",
            "Epoch [3], last_lr: 0.00199, train_loss: 4.5919, val_loss: 4.5951, val_acc: 0.0268\n",
            "Epoch [4], last_lr: 0.00280, train_loss: 4.5948, val_loss: 4.6044, val_acc: 0.0172\n",
            "Epoch [5], last_lr: 0.00371, train_loss: 4.6063, val_loss: 4.6126, val_acc: 0.0096\n",
            "Epoch [6], last_lr: 0.00470, train_loss: 4.6113, val_loss: 4.6126, val_acc: 0.0096\n",
            "Epoch [7], last_lr: 0.00570, train_loss: 4.6125, val_loss: 4.6126, val_acc: 0.0096\n",
            "Epoch [8], last_lr: 0.00668, train_loss: 4.6114, val_loss: 4.6107, val_acc: 0.0115\n",
            "Epoch [9], last_lr: 0.00760, train_loss: 4.6127, val_loss: 4.6107, val_acc: 0.0115\n",
            "Epoch [10], last_lr: 0.00841, train_loss: 4.6128, val_loss: 4.6106, val_acc: 0.0115\n",
            "Epoch [11], last_lr: 0.00908, train_loss: 4.6117, val_loss: 4.6064, val_acc: 0.0146\n",
            "Epoch [12], last_lr: 0.00958, train_loss: 4.6090, val_loss: 4.6060, val_acc: 0.0156\n",
            "Epoch [13], last_lr: 0.00990, train_loss: 4.6079, val_loss: 4.6079, val_acc: 0.0134\n",
            "Epoch [14], last_lr: 0.01000, train_loss: 4.6078, val_loss: 4.6085, val_acc: 0.0126\n",
            "Epoch [15], last_lr: 0.00998, train_loss: 4.6011, val_loss: 4.6003, val_acc: 0.0198\n",
            "Epoch [16], last_lr: 0.00992, train_loss: 4.5884, val_loss: 4.5829, val_acc: 0.0388\n",
            "Epoch [17], last_lr: 0.00982, train_loss: 4.5828, val_loss: 4.5810, val_acc: 0.0405\n",
            "Epoch [18], last_lr: 0.00968, train_loss: 4.5781, val_loss: 4.5783, val_acc: 0.0423\n",
            "Epoch [19], last_lr: 0.00950, train_loss: 4.5738, val_loss: 4.5725, val_acc: 0.0495\n",
            "Epoch [20], last_lr: 0.00929, train_loss: 4.5722, val_loss: 4.5765, val_acc: 0.0447\n",
            "Epoch [21], last_lr: 0.00905, train_loss: 4.5701, val_loss: 4.5670, val_acc: 0.0552\n",
            "Epoch [22], last_lr: 0.00877, train_loss: 4.5666, val_loss: 4.5718, val_acc: 0.0488\n",
            "Epoch [23], last_lr: 0.00846, train_loss: 4.5655, val_loss: 4.5643, val_acc: 0.0570\n",
            "Epoch [24], last_lr: 0.00812, train_loss: 4.5641, val_loss: 4.5637, val_acc: 0.0568\n",
            "Epoch [25], last_lr: 0.00775, train_loss: 4.5630, val_loss: 4.5635, val_acc: 0.0584\n",
            "Epoch [26], last_lr: 0.00737, train_loss: 4.5622, val_loss: 4.5586, val_acc: 0.0632\n",
            "Epoch [27], last_lr: 0.00697, train_loss: 4.5595, val_loss: 4.5561, val_acc: 0.0658\n",
            "Epoch [28], last_lr: 0.00655, train_loss: 4.5573, val_loss: 4.5582, val_acc: 0.0628\n",
            "Epoch [29], last_lr: 0.00611, train_loss: 4.5571, val_loss: 4.5523, val_acc: 0.0703\n",
            "Epoch [30], last_lr: 0.00567, train_loss: 4.5550, val_loss: 4.5518, val_acc: 0.0698\n",
            "Epoch [31], last_lr: 0.00522, train_loss: 4.5547, val_loss: 4.5511, val_acc: 0.0717\n",
            "Epoch [32], last_lr: 0.00478, train_loss: 4.5531, val_loss: 4.5533, val_acc: 0.0685\n",
            "Epoch [33], last_lr: 0.00433, train_loss: 4.5517, val_loss: 4.5478, val_acc: 0.0738\n",
            "Epoch [34], last_lr: 0.00389, train_loss: 4.5501, val_loss: 4.5480, val_acc: 0.0746\n",
            "Epoch [35], last_lr: 0.00345, train_loss: 4.5503, val_loss: 4.5471, val_acc: 0.0754\n",
            "Epoch [36], last_lr: 0.00303, train_loss: 4.5489, val_loss: 4.5452, val_acc: 0.0778\n",
            "Epoch [37], last_lr: 0.00263, train_loss: 4.5465, val_loss: 4.5465, val_acc: 0.0767\n",
            "Epoch [38], last_lr: 0.00225, train_loss: 4.5486, val_loss: 4.5439, val_acc: 0.0789\n",
            "Epoch [39], last_lr: 0.00188, train_loss: 4.5456, val_loss: 4.5457, val_acc: 0.0760\n",
            "Epoch [40], last_lr: 0.00154, train_loss: 4.5440, val_loss: 4.5451, val_acc: 0.0766\n",
            "Epoch [41], last_lr: 0.00123, train_loss: 4.5440, val_loss: 4.5435, val_acc: 0.0780\n",
            "Epoch [42], last_lr: 0.00095, train_loss: 4.5440, val_loss: 4.5430, val_acc: 0.0793\n",
            "Epoch [43], last_lr: 0.00071, train_loss: 4.5429, val_loss: 4.5436, val_acc: 0.0790\n",
            "Epoch [44], last_lr: 0.00050, train_loss: 4.5426, val_loss: 4.5431, val_acc: 0.0790\n",
            "Epoch [45], last_lr: 0.00032, train_loss: 4.5423, val_loss: 4.5430, val_acc: 0.0791\n",
            "Epoch [46], last_lr: 0.00018, train_loss: 4.5413, val_loss: 4.5430, val_acc: 0.0790\n",
            "Epoch [47], last_lr: 0.00008, train_loss: 4.5415, val_loss: 4.5428, val_acc: 0.0790\n",
            "Epoch [48], last_lr: 0.00002, train_loss: 4.5413, val_loss: 4.5428, val_acc: 0.0791\n",
            "Epoch [49], last_lr: 0.00000, train_loss: 4.5418, val_loss: 4.5428, val_acc: 0.0788\n",
            "CPU times: user 7min 35s, sys: 5min 49s, total: 13min 25s\n",
            "Wall time: 16min 36s\n"
          ]
        }
      ]
    },
    {
      "cell_type": "markdown",
      "source": [
        "### Evaluating"
      ],
      "metadata": {
        "id": "P8tvebVsmz8w"
      }
    },
    {
      "cell_type": "code",
      "source": [
        "def plot_accuracies(history):\n",
        "    accuracies = [x['val_acc'] for x in history]\n",
        "    plt.plot(accuracies, '-o')\n",
        "    plt.xlabel('Epoch')\n",
        "    plt.ylabel('Accuracy')\n",
        "    plt.title('Accuracy vs. Number of Epochs');"
      ],
      "metadata": {
        "id": "7XmZPAM8nAED"
      },
      "execution_count": 109,
      "outputs": []
    },
    {
      "cell_type": "code",
      "source": [
        "plot_accuracies(history_resnet9)"
      ],
      "metadata": {
        "colab": {
          "base_uri": "https://localhost:8080/",
          "height": 472
        },
        "id": "Hj4rtYz_m1lw",
        "outputId": "09d07974-fb93-4a32-c11d-56d531948337"
      },
      "execution_count": 110,
      "outputs": [
        {
          "output_type": "display_data",
          "data": {
            "text/plain": [
              "<Figure size 640x480 with 1 Axes>"
            ],
            "image/png": "[encoded data removed]"
          },
          "metadata": {}
        }
      ]
    },
    {
      "cell_type": "code",
      "source": [
        "def plot_losses(history):\n",
        "    train_losses = [x.get('train_loss') for x in history]\n",
        "    val_losses = [x['val_loss'] for x in history]\n",
        "    plt.plot(train_losses, '-bo')\n",
        "    plt.plot(val_losses, '-ro')\n",
        "    plt.xlabel('Epoch')\n",
        "    plt.ylabel('Loss')\n",
        "    plt.legend(['Training', 'Validation'])\n",
        "    plt.title('Loss vs. Number of epochs');"
      ],
      "metadata": {
        "id": "tQFF_RpQm25J"
      },
      "execution_count": 111,
      "outputs": []
    },
    {
      "cell_type": "code",
      "source": [
        "plot_losses(history_resnet9)"
      ],
      "metadata": {
        "colab": {
          "base_uri": "https://localhost:8080/",
          "height": 472
        },
        "id": "BOCYarB-m4Id",
        "outputId": "ffbfab72-1d41-4eb8-f0d9-8b2b938f01a1"
      },
      "execution_count": 112,
      "outputs": [
        {
          "output_type": "display_data",
          "data": {
            "text/plain": [
              "<Figure size 640x480 with 1 Axes>"
            ],
            "image/png": "[encoded data removed]"
          },
          "metadata": {}
        }
      ]
    },
    {
      "cell_type": "code",
      "source": [
        "def plot_lrs(history):\n",
        "    lrs = np.concatenate([x.get('lrs', []) for x in history])\n",
        "    plt.plot(lrs)\n",
        "    plt.xlabel('Batch Number')\n",
        "    plt.ylabel('Learning Rate')\n",
        "    plt.title('Learning Rate vs. Batch Number');"
      ],
      "metadata": {
        "id": "JgggncVsm5L6"
      },
      "execution_count": 113,
      "outputs": []
    },
    {
      "cell_type": "code",
      "source": [
        "plot_lrs(history_resnet9)"
      ],
      "metadata": {
        "colab": {
          "base_uri": "https://localhost:8080/",
          "height": 472
        },
        "id": "K-bbz2d1m6LG",
        "outputId": "2c955335-104d-49d0-b731-30a78b59d59b"
      },
      "execution_count": 114,
      "outputs": [
        {
          "output_type": "display_data",
          "data": {
            "text/plain": [
              "<Figure size 640x480 with 1 Axes>"
            ],
            "image/png": "[encoded data removed]"
          },
          "metadata": {}
        }
      ]
    },
    {
      "cell_type": "code",
      "source": [
        "test_resnet9 = evaluate(model_resnet9, test_loader) #final evaluation of resnet9 model with test dataset\n",
        "test_resnet9"
      ],
      "metadata": {
        "colab": {
          "base_uri": "https://localhost:8080/"
        },
        "id": "kx2aJmt9nFy_",
        "outputId": "52cf1cf5-7d8e-4ea2-e86b-1c1cdc563c8a"
      },
      "execution_count": 115,
      "outputs": [
        {
          "output_type": "execute_result",
          "data": {
            "text/plain": [
              "{'val_loss': 4.538740634918213, 'val_acc': 0.08376186341047287}"
            ]
          },
          "metadata": {},
          "execution_count": 115
        }
      ]
    },
    {
      "cell_type": "code",
      "source": [
        "test_loss_resnet9 = test_resnet9['val_loss']\n",
        "test_acc_resnet9 = test_resnet9['val_acc']\n",
        "print('test_loss_resnet9:', test_resnet9['val_loss'])\n",
        "print('test_acc_resnet9:', test_resnet9['val_acc'])"
      ],
      "metadata": {
        "colab": {
          "base_uri": "https://localhost:8080/"
        },
        "id": "aSW5bNs6nHBu",
        "outputId": "fd5e08c8-80b5-470a-deda-c87c567116b6"
      },
      "execution_count": 116,
      "outputs": [
        {
          "output_type": "stream",
          "name": "stdout",
          "text": [
            "test_loss_resnet9: 4.538740634918213\n",
            "test_acc_resnet9: 0.08376186341047287\n"
          ]
        }
      ]
    },
    {
      "cell_type": "code",
      "source": [
        "torch.save(model_resnet9.state_dict(), 'ResNet9_v0.pth')"
      ],
      "metadata": {
        "id": "hg8cFksonIqr"
      },
      "execution_count": 117,
      "outputs": []
    },
    {
      "cell_type": "code",
      "source": [
        "def predict_image(img, model_resnet9):\n",
        "    # Convert to a batch of 1\n",
        "    xb = to_device(img.unsqueeze(0), device)\n",
        "    # Get predictions from model\n",
        "    yb = model_resnet9(xb)\n",
        "    # Pick index with highest probability\n",
        "    _, preds  = torch.max(yb, dim=1)\n",
        "    # Retrieve the class label\n",
        "    return dataset.classes[preds[0].item()]"
      ],
      "metadata": {
        "id": "kwx-QAPwnMxB"
      },
      "execution_count": 118,
      "outputs": []
    },
    {
      "cell_type": "code",
      "source": [
        "img, label = test_dataset[8543]\n",
        "plt.imshow(img.permute(1, 2, 0))\n",
        "print('Label:', dataset.classes[label], ', Predicted:', predict_image(img, model_resnet9))"
      ],
      "metadata": {
        "colab": {
          "base_uri": "https://localhost:8080/",
          "height": 447
        },
        "id": "jzTdBCapnNwk",
        "outputId": "1983c2f1-189f-4a36-f516-e637a80b678e"
      },
      "execution_count": 119,
      "outputs": [
        {
          "output_type": "stream",
          "name": "stdout",
          "text": [
            "Label: oak_tree , Predicted: oak_tree\n"
          ]
        },
        {
          "output_type": "display_data",
          "data": {
            "text/plain": [
              "<Figure size 640x480 with 1 Axes>"
            ],
            "image/png": "[encoded data removed]"
          },
          "metadata": {}
        }
      ]
    }
  ]
}